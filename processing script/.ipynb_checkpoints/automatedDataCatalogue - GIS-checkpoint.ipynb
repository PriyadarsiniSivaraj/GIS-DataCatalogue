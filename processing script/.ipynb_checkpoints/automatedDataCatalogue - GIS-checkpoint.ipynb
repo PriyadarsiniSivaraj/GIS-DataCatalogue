{
 "cells": [
  {
   "cell_type": "markdown",
   "metadata": {},
   "source": [
    "<h1 align=\"center\"> Script for GIS Data Catalogue Generation </h1>"
   ]
  },
  {
   "cell_type": "markdown",
   "metadata": {},
   "source": [
    "The script makes use of docxtpl library to generate word documents. Basically a word template 'templateDataCatalogue.docx' is designed, which is in turn read and populated by the script. As of now, there are 66 datasets for which the document is generated.\n",
    "\n",
    "The pre-requisites to run this script are :\n",
    "1. templateDataCatalogue : The word template placed in folder 'catalogue (template)'\n",
    "2. GISMetadata_8-06 :  Latest csv export from the metadata pipeline\n",
    "3. catalogue (images) : Folder comprising the images (.jpg files) for every dataset \n",
    "\n",
    "\n",
    "The word exports are saved to folder 'catalogue (exports)'."
   ]
  },
  {
   "cell_type": "code",
   "execution_count": 1,
   "metadata": {},
   "outputs": [],
   "source": [
    "#Making the necessary library imports\n",
    "import os, sys\n",
    "import pandas as pd\n",
    "from docxtpl import DocxTemplate, InlineImage\n",
    "from docx.shared import Mm\n",
    "\n",
    "# Changing the path to current working directory\n",
    "os.chdir(sys.path[0])"
   ]
  },
  {
   "cell_type": "markdown",
   "metadata": {},
   "source": [
    "## Populating the Template"
   ]
  },
  {
   "cell_type": "code",
   "execution_count": 2,
   "metadata": {},
   "outputs": [],
   "source": [
    "#Reading the document template\n",
    "template = DocxTemplate('../catalogue (template)/templateDataCatalogue.docx')\n",
    "\n",
    "#Reading the latest export from metadata pipeline\n",
    "gisMetaDf = pd.read_csv('../GISMetadata_8-06.csv')\n",
    "\n",
    "#Grouping datasets using the datasetCode\n",
    "gisMetaLayerGroups=gisMetaDf.groupby(\"datasetCode\")\n",
    "\n",
    "#Preparing context to be populated in the template\n",
    "pageNumber = 0\n",
    "\n",
    "#Layers under every dataset is read as a Dataframe - 'layerDf'\n",
    "for datasetCode in gisMetaLayerGroups.groups.keys():    \n",
    "    layerDf=gisMetaLayerGroups.get_group(datasetCode)\n",
    "    \n",
    "    #Removing the list elements like '[', ']' and ' from dimensions and layerName\n",
    "    target = {39 : None, 91 : None, 93 : None}\n",
    "    dimension = str(layerDf['dimension'].unique().tolist()).translate(target)\n",
    "    layerName = str(layerDf['layerTitle'].unique().tolist()).translate(target)\n",
    "    pageNumber += 1 \n",
    "    \n",
    "    #Creating a range of years\n",
    "    yearList = layerDf['year'].unique().tolist()\n",
    "    if max(yearList) == min(yearList):\n",
    "        yearRange = str(min(yearList))\n",
    "    else:\n",
    "        yearRange = str(min(yearList))+'-'+str(max(yearList))\n",
    "\n",
    "    #Building context dictionary to populate the word template\n",
    "    context = {'layerID':layerName if dimension == 'nan' else dimension,\n",
    "                   'datasetTitle': layerDf['datasetTitle'].unique()[0],\n",
    "                   'fileName':layerDf['fileName'].unique()[0],\n",
    "                   'citation': layerDf['citation'].unique()[0],\n",
    "                  'datasetCode':layerDf['datasetCode'].unique()[0],\n",
    "                  'format': layerDf['dataFormat'].unique()[0],\n",
    "                  'resolution':layerDf['resolution'].unique()[0],\n",
    "                  'unit': layerDf['dataType'].unique()[0],\n",
    "                  'year':yearRange,\n",
    "                  'datasetDescription':layerDf['datasetDescription'].unique()[0],\n",
    "                  'link':layerDf['dataLink'].unique()[0],\n",
    "                  'pageNumber':pageNumber,\n",
    "                  'myimage':InlineImage(template, image_descriptor='../catalogue (images)/'+datasetCode+'.jpg',width=Mm(111.7), height=Mm(59.5))\n",
    "                  }\n",
    "    \n",
    "    #Template is rendered using the context dictionary\n",
    "    template.render(context)\n",
    "    \n",
    "    #Generated output word document is saved in the 'catalogue (exports)' folder with the datasetCode in the name\n",
    "    template.save('../catalogue (exports)/catalogue-'+datasetCode+'.docx')\n"
   ]
  },
  {
   "cell_type": "markdown",
   "metadata": {},
   "source": [
    "## Conversion of Word Document (Exports) to pdf"
   ]
  },
  {
   "cell_type": "markdown",
   "metadata": {},
   "source": [
    "Here, all the word documents present in the folder 'catalogue (exports)' are converted to pdf files"
   ]
  },
  {
   "cell_type": "code",
   "execution_count": 3,
   "metadata": {},
   "outputs": [],
   "source": [
    "#Making the necessary imports\n",
    "from comtypes.client import CreateObject\n",
    "import os\n",
    "\n",
    "folder = '../catalogue (exports)/'\n",
    "\n",
    "wdToPDF = CreateObject(\"Word.Application\")\n",
    "wdFormatPDF = 17\n",
    "files = os.listdir(folder)\n",
    "word_files = [f for f in files if f.endswith((\".doc\", \".docx\"))]\n",
    "for word_file in word_files:\n",
    "    word_path = os.path.join(sys.path[0],folder, word_file)\n",
    "    pdf_path = word_path\n",
    "    if pdf_path[-3:] != 'pdf':\n",
    "        pdf_path = pdf_path[:-5] + \".pdf\"\n",
    "\n",
    "    if os.path.exists(pdf_path):\n",
    "        os.remove(pdf_path)\n",
    "\n",
    "    pdfCreate = wdToPDF.Documents.Open(word_path)\n",
    "    pdfCreate.SaveAs(pdf_path, wdFormatPDF)\n",
    "    pdfCreate.Close()\n",
    "    \n",
    "    "
   ]
  },
  {
   "cell_type": "markdown",
   "metadata": {},
   "source": [
    "## Merging all pdf files "
   ]
  },
  {
   "cell_type": "markdown",
   "metadata": {},
   "source": [
    "The pdf exports are finally merged to a single file named 'GISDataCatalogue.pdf'"
   ]
  },
  {
   "cell_type": "code",
   "execution_count": 4,
   "metadata": {},
   "outputs": [],
   "source": [
    "#Making the necessary library imports\n",
    "# pip install PyPDF2\n",
    "import os\n",
    "from PyPDF2 import PdfFileMerger\n",
    "\n",
    "folder = '../catalogue (exports)/'\n",
    "source_dir = os.getcwd()\n",
    "merger = PdfFileMerger()\n",
    "\n",
    "for item in os.listdir(folder):\n",
    "    if item.endswith('pdf'):        \n",
    "        merger.append(folder+'\\\\' + item)\n",
    "\n",
    "merger.write(source_dir+'\\\\' + 'GISDataCatalogue.pdf')\n",
    "merger.close()"
   ]
  },
  {
   "cell_type": "markdown",
   "metadata": {},
   "source": [
    "However, while merging the pdf files the page numbers have to be taken into consideration. At times the order of pdf merge may not be the same as the order in which they were generated intially. The merged GIS Data Catalogue is saved to the folder '../processing script/'.\n",
    "\n",
    "Once, the GISDataCatalogue.pdf is obtained it has to be merged with :\n",
    "\n",
    "1_Introduction.pdf\n",
    "\n",
    "2_OverviewTable.pdf\n",
    "\n",
    "placed within the folder 'Introduction'"
   ]
  }
 ],
 "metadata": {
  "kernelspec": {
   "display_name": "Python 3",
   "language": "python",
   "name": "python3"
  },
  "language_info": {
   "codemirror_mode": {
    "name": "ipython",
    "version": 3
   },
   "file_extension": ".py",
   "mimetype": "text/x-python",
   "name": "python",
   "nbconvert_exporter": "python",
   "pygments_lexer": "ipython3",
   "version": "3.8.5"
  }
 },
 "nbformat": 4,
 "nbformat_minor": 4
}
